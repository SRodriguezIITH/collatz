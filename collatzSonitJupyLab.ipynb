{
 "cells": [
  {
   "cell_type": "code",
   "execution_count": null,
   "id": "6875c598-d2ff-4d1e-8e48-38b02a578573",
   "metadata": {},
   "outputs": [],
   "source": [
    "#Welcome to Collatz Conjecture Data Generation and Plotting Software created by Sonit Patil, Indian Institute of Technology Hyderabad.\n",
    "#The code is open source and anyone can use or modify, provided the code is cited in their work"
   ]
  },
  {
   "cell_type": "code",
   "execution_count": null,
   "id": "7857322c-45a7-48e5-8aa6-1fe355b7fda2",
   "metadata": {},
   "outputs": [],
   "source": [
    "#The following code generates data in csv file from n= 1 to n = input"
   ]
  },
  {
   "cell_type": "code",
   "execution_count": null,
   "id": "2fb3db67-ec3d-43e3-9951-3bc9a323d356",
   "metadata": {},
   "outputs": [],
   "source": [
    "import csv\n",
    "import math\n",
    "\n",
    "\n",
    "f =  open(\"C:/Users/sonit/collatz_conjecture/Research/collatzdatasheet.csv\",\"w+\", newline='')\n",
    "csvWriter = csv.writer(f)\n",
    "csvWriter.writerow([\"Parity\", \"Number\", \"logValue\", \"seqEnd\"])\n",
    "#Even = 1, Odd = 0\n",
    "#SeqEnd = 1 = Same seq, 0 = seq ended\n",
    "\n",
    "def collatz(number):\n",
    "            par = 1 if number % 2 == 0 else 0\n",
    "            seqEnd = 1\n",
    "            csvWriter.writerow([par, number, math.log(number), seqEnd])\n",
    "            seqEnd = 0\n",
    "            number = number/2 if number%2==0 else 3*number+1\n",
    "            if number!=1:\n",
    "                collatz(number)\n",
    "\n",
    "            if number == 1:\n",
    "                csvWriter.writerow([par, number, math.log(number), seqEnd,\"\"])\n",
    "\n",
    "def loop():\n",
    "        global max_data_value\n",
    "        max_data_value = int(input(\"Enter Maximum Data Value: \"))\n",
    "        while (max_data_value):\n",
    "             collatz(max_data_value)\n",
    "             max_data_value-=1\n",
    "\n",
    "loop()"
   ]
  },
  {
   "cell_type": "code",
   "execution_count": null,
   "id": "e708143d-bb34-4f3c-99a6-d77b79368fed",
   "metadata": {},
   "outputs": [],
   "source": [
    "#The following code Generates a 3D Matplotlib Plotting of the above Generated data. The plotting is inaccurate due to perspective.\n",
    "#However the plot provides an affine graph thus preserving its approximate shape."
   ]
  },
  {
   "cell_type": "code",
   "execution_count": null,
   "id": "0fe197f4-304b-4833-ae5a-1d00ef0d270c",
   "metadata": {},
   "outputs": [],
   "source": [
    "import pandas as pd\n",
    "from mpl_toolkits.mplot3d import Axes3D\n",
    "import matplotlib.pyplot as plt\n",
    "from scipy.interpolate import UnivariateSpline\n",
    "\n",
    "\n",
    "pd.options.display.max_rows = 1000\n",
    "pd.options.display.max_columns = 5\n",
    "\n",
    "def pandacsvreader(fname):\n",
    "    data = pd.read_csv('C:/Users/sonit/collatz_conjecture/Research/Dataset/'+fname+'.csv')\n",
    "    data = data.dropna()\n",
    "\n",
    "    data['index'] = data.index + 1\n",
    "\n",
    "\n",
    "\n",
    "    even_data = data[data['Parity'] == 1]\n",
    "    odd_data = data[data['Parity'] == 0]\n",
    "\n",
    "    #    Create the plot\n",
    "    fig = plt.figure(figsize=(10, 6))\n",
    "    ax = fig.add_subplot(111, projection='3d')\n",
    "\n",
    "\n",
    "\n",
    "    # Plot data points with color based on parity\n",
    "    ax.scatter(0,even_data['index'], even_data['Number'], c='blue', marker='o', label='Even Parity (Y-Axis)')\n",
    "    ax.scatter(odd_data['index'],0, odd_data['Number'], c='red', marker='s', label='Odd Parity (X-Axis)')\n",
    "\n",
    "\n",
    "\n",
    "    # Set labels and title\n",
    "    ax.set_xlabel('X-Axis (Odd)')\n",
    "    ax.set_ylabel('Y-Axis (Even)')\n",
    "    ax.set_zlabel('Z-Axis (Number)')\n",
    "    ax.set_title('3D Parity Plot with Number on Z-Axis')\n",
    "\n",
    "    # Adjust viewing angle (optional)\n",
    "    ax.view_init(elev=10, azim=45)\n",
    "\n",
    "    # Optional: Customize plot appearance (grid, markers, etc.)\n",
    "    # ax.grid(True)  # Enable grid lines\n",
    "\n",
    "    plt.legend()\n",
    "\n",
    "\n",
    "    plt.savefig('C:/Users/sonit/collatz_conjecture/Research/Dataplots/OppositeParityCurve/'+fname+'.png')\n",
    "    plt.close()\n",
    "\n",
    "\n",
    "def loop():\n",
    "    max_data_value = int(input('Enter Max Data Value: '))\n",
    "    i = 1\n",
    "    while (i <= max_data_value):\n",
    "        fname = str(i) + \"_\" + \"collatz\" + \"dataset\"\n",
    "        pandacsvreader(fname)\n",
    "        i+=1\n",
    "loop()"
   ]
  }
 ],
 "metadata": {
  "kernelspec": {
   "display_name": "Python 3 (ipykernel)",
   "language": "python",
   "name": "python3"
  },
  "language_info": {
   "codemirror_mode": {
    "name": "ipython",
    "version": 3
   },
   "file_extension": ".py",
   "mimetype": "text/x-python",
   "name": "python",
   "nbconvert_exporter": "python",
   "pygments_lexer": "ipython3",
   "version": "3.11.9"
  }
 },
 "nbformat": 4,
 "nbformat_minor": 5
}
